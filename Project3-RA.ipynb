{
  "nbformat": 4,
  "nbformat_minor": 0,
  "metadata": {
    "colab": {
      "name": "Untitled20.ipynb",
      "provenance": [],
      "collapsed_sections": [],
      "authorship_tag": "ABX9TyPwxnbX9DSyf80//hG+umoW",
      "include_colab_link": true
    },
    "kernelspec": {
      "name": "python3",
      "display_name": "Python 3"
    },
    "language_info": {
      "name": "python"
    }
  },
  "cells": [
    {
      "cell_type": "markdown",
      "metadata": {
        "id": "view-in-github",
        "colab_type": "text"
      },
      "source": [
        "<a href=\"https://colab.research.google.com/github/msrosyabreu/PROJECTS-RA/blob/main/Project3-RA.ipynb\" target=\"_parent\"><img src=\"https://colab.research.google.com/assets/colab-badge.svg\" alt=\"Open In Colab\"/></a>"
      ]
    },
    {
      "cell_type": "code",
      "metadata": {
        "colab": {
          "base_uri": "https://localhost:8080/",
          "height": 363
        },
        "id": "HZABw7cKtesD",
        "outputId": "d3fe7f55-cb5d-4575-d660-b651e0c7f4fe"
      },
      "source": [
        "import pandas as pd\n",
        "import matplotlib.pyplot as plt\n",
        "import numpy as np\n",
        "import seaborn as sns\n",
        "\n",
        "df = pd.read_csv('https://raw.githubusercontent.com/msrosyabreu/PROJECTS-RA/main/CUNY%20data.csv')\n",
        "#This dataset demonstrates degrees granted at CUNY by degree type such as certificates, associates, bachelors, masters, etc. since 1966.\n",
        "#Below's function shows the first 10 rows of the data frame, useful to see some of the data.\n",
        "df.head(10)"
      ],
      "execution_count": null,
      "outputs": [
        {
          "output_type": "execute_result",
          "data": {
            "text/html": [
              "<div>\n",
              "<style scoped>\n",
              "    .dataframe tbody tr th:only-of-type {\n",
              "        vertical-align: middle;\n",
              "    }\n",
              "\n",
              "    .dataframe tbody tr th {\n",
              "        vertical-align: top;\n",
              "    }\n",
              "\n",
              "    .dataframe thead th {\n",
              "        text-align: right;\n",
              "    }\n",
              "</style>\n",
              "<table border=\"1\" class=\"dataframe\">\n",
              "  <thead>\n",
              "    <tr style=\"text-align: right;\">\n",
              "      <th></th>\n",
              "      <th>Academic Year</th>\n",
              "      <th>Degree Type</th>\n",
              "      <th>Record Type</th>\n",
              "      <th>Count</th>\n",
              "    </tr>\n",
              "  </thead>\n",
              "  <tbody>\n",
              "    <tr>\n",
              "      <th>0</th>\n",
              "      <td>2018-2019</td>\n",
              "      <td>CERTIFICATE</td>\n",
              "      <td>DEGREES</td>\n",
              "      <td>338</td>\n",
              "    </tr>\n",
              "    <tr>\n",
              "      <th>1</th>\n",
              "      <td>2018-2019</td>\n",
              "      <td>ASSOCIATE</td>\n",
              "      <td>DEGREES</td>\n",
              "      <td>18880</td>\n",
              "    </tr>\n",
              "    <tr>\n",
              "      <th>2</th>\n",
              "      <td>2018-2019</td>\n",
              "      <td>BACHELOR'S</td>\n",
              "      <td>DEGREES</td>\n",
              "      <td>27273</td>\n",
              "    </tr>\n",
              "    <tr>\n",
              "      <th>3</th>\n",
              "      <td>2018-2019</td>\n",
              "      <td>MASTER'S</td>\n",
              "      <td>DEGREES</td>\n",
              "      <td>8640</td>\n",
              "    </tr>\n",
              "    <tr>\n",
              "      <th>4</th>\n",
              "      <td>2018-2019</td>\n",
              "      <td>ADVANCED CERTIFICATE</td>\n",
              "      <td>DEGREES</td>\n",
              "      <td>1095</td>\n",
              "    </tr>\n",
              "    <tr>\n",
              "      <th>5</th>\n",
              "      <td>2018-2019</td>\n",
              "      <td>JD</td>\n",
              "      <td>DEGREES</td>\n",
              "      <td>165</td>\n",
              "    </tr>\n",
              "    <tr>\n",
              "      <th>6</th>\n",
              "      <td>2018-2019</td>\n",
              "      <td>MASTER'S OF PHILOSOPHY</td>\n",
              "      <td>DEGREES</td>\n",
              "      <td>248</td>\n",
              "    </tr>\n",
              "    <tr>\n",
              "      <th>7</th>\n",
              "      <td>2018-2019</td>\n",
              "      <td>DOCTORAL</td>\n",
              "      <td>DEGREES</td>\n",
              "      <td>500</td>\n",
              "    </tr>\n",
              "    <tr>\n",
              "      <th>8</th>\n",
              "      <td>2018-2019</td>\n",
              "      <td>TOTAL</td>\n",
              "      <td>DEGREES</td>\n",
              "      <td>57139</td>\n",
              "    </tr>\n",
              "    <tr>\n",
              "      <th>9</th>\n",
              "      <td>1966-1967</td>\n",
              "      <td>Certificate</td>\n",
              "      <td>Degrees</td>\n",
              "      <td>0</td>\n",
              "    </tr>\n",
              "  </tbody>\n",
              "</table>\n",
              "</div>"
            ],
            "text/plain": [
              "  Academic Year             Degree Type Record Type  Count\n",
              "0     2018-2019             CERTIFICATE     DEGREES    338\n",
              "1     2018-2019               ASSOCIATE     DEGREES  18880\n",
              "2     2018-2019              BACHELOR'S     DEGREES  27273\n",
              "3     2018-2019                MASTER'S     DEGREES   8640\n",
              "4     2018-2019    ADVANCED CERTIFICATE     DEGREES   1095\n",
              "5     2018-2019                      JD     DEGREES    165\n",
              "6     2018-2019  MASTER'S OF PHILOSOPHY     DEGREES    248\n",
              "7     2018-2019                DOCTORAL     DEGREES    500\n",
              "8     2018-2019                   TOTAL     DEGREES  57139\n",
              "9     1966-1967             Certificate     Degrees      0"
            ]
          },
          "metadata": {
            "tags": []
          },
          "execution_count": 93
        }
      ]
    },
    {
      "cell_type": "code",
      "metadata": {
        "colab": {
          "base_uri": "https://localhost:8080/",
          "height": 363
        },
        "id": "9m8rrro1bPgZ",
        "outputId": "175054e4-538e-490b-a24b-848e8f2ea415"
      },
      "source": [
        "#Below there are two drop functions, first one drops rows with a count of 0 and the second one drops the column named Record Type.\n",
        "count_drop = df[df['Count'] == 0].index\n",
        "df.drop(count_drop, inplace = True, axis=0)\n",
        "\n",
        "drop_cols =['Record Type']\n",
        "df.drop(drop_cols, inplace=True, axis=1)\n",
        "df.head(10)"
      ],
      "execution_count": null,
      "outputs": [
        {
          "output_type": "execute_result",
          "data": {
            "text/html": [
              "<div>\n",
              "<style scoped>\n",
              "    .dataframe tbody tr th:only-of-type {\n",
              "        vertical-align: middle;\n",
              "    }\n",
              "\n",
              "    .dataframe tbody tr th {\n",
              "        vertical-align: top;\n",
              "    }\n",
              "\n",
              "    .dataframe thead th {\n",
              "        text-align: right;\n",
              "    }\n",
              "</style>\n",
              "<table border=\"1\" class=\"dataframe\">\n",
              "  <thead>\n",
              "    <tr style=\"text-align: right;\">\n",
              "      <th></th>\n",
              "      <th>Academic Year</th>\n",
              "      <th>Degree Type</th>\n",
              "      <th>Count</th>\n",
              "    </tr>\n",
              "  </thead>\n",
              "  <tbody>\n",
              "    <tr>\n",
              "      <th>0</th>\n",
              "      <td>2018-2019</td>\n",
              "      <td>CERTIFICATE</td>\n",
              "      <td>338</td>\n",
              "    </tr>\n",
              "    <tr>\n",
              "      <th>1</th>\n",
              "      <td>2018-2019</td>\n",
              "      <td>ASSOCIATE</td>\n",
              "      <td>18880</td>\n",
              "    </tr>\n",
              "    <tr>\n",
              "      <th>2</th>\n",
              "      <td>2018-2019</td>\n",
              "      <td>BACHELOR'S</td>\n",
              "      <td>27273</td>\n",
              "    </tr>\n",
              "    <tr>\n",
              "      <th>3</th>\n",
              "      <td>2018-2019</td>\n",
              "      <td>MASTER'S</td>\n",
              "      <td>8640</td>\n",
              "    </tr>\n",
              "    <tr>\n",
              "      <th>4</th>\n",
              "      <td>2018-2019</td>\n",
              "      <td>ADVANCED CERTIFICATE</td>\n",
              "      <td>1095</td>\n",
              "    </tr>\n",
              "    <tr>\n",
              "      <th>5</th>\n",
              "      <td>2018-2019</td>\n",
              "      <td>JD</td>\n",
              "      <td>165</td>\n",
              "    </tr>\n",
              "    <tr>\n",
              "      <th>6</th>\n",
              "      <td>2018-2019</td>\n",
              "      <td>MASTER'S OF PHILOSOPHY</td>\n",
              "      <td>248</td>\n",
              "    </tr>\n",
              "    <tr>\n",
              "      <th>7</th>\n",
              "      <td>2018-2019</td>\n",
              "      <td>DOCTORAL</td>\n",
              "      <td>500</td>\n",
              "    </tr>\n",
              "    <tr>\n",
              "      <th>8</th>\n",
              "      <td>2018-2019</td>\n",
              "      <td>TOTAL</td>\n",
              "      <td>57139</td>\n",
              "    </tr>\n",
              "    <tr>\n",
              "      <th>10</th>\n",
              "      <td>1966-1967</td>\n",
              "      <td>Associate</td>\n",
              "      <td>4048</td>\n",
              "    </tr>\n",
              "  </tbody>\n",
              "</table>\n",
              "</div>"
            ],
            "text/plain": [
              "   Academic Year             Degree Type  Count\n",
              "0      2018-2019             CERTIFICATE    338\n",
              "1      2018-2019               ASSOCIATE  18880\n",
              "2      2018-2019              BACHELOR'S  27273\n",
              "3      2018-2019                MASTER'S   8640\n",
              "4      2018-2019    ADVANCED CERTIFICATE   1095\n",
              "5      2018-2019                      JD    165\n",
              "6      2018-2019  MASTER'S OF PHILOSOPHY    248\n",
              "7      2018-2019                DOCTORAL    500\n",
              "8      2018-2019                   TOTAL  57139\n",
              "10     1966-1967               Associate   4048"
            ]
          },
          "metadata": {
            "tags": []
          },
          "execution_count": 94
        }
      ]
    },
    {
      "cell_type": "code",
      "metadata": {
        "colab": {
          "base_uri": "https://localhost:8080/",
          "height": 424
        },
        "id": "ZbGwysW7w9-x",
        "outputId": "f598423a-0472-4164-ce04-d6f5382ccb6c"
      },
      "source": [
        "#Below's function detects missing values in the data.\n",
        "#false indicates no missing values were found in this data. \n",
        "df.isnull()"
      ],
      "execution_count": null,
      "outputs": [
        {
          "output_type": "execute_result",
          "data": {
            "text/html": [
              "<div>\n",
              "<style scoped>\n",
              "    .dataframe tbody tr th:only-of-type {\n",
              "        vertical-align: middle;\n",
              "    }\n",
              "\n",
              "    .dataframe tbody tr th {\n",
              "        vertical-align: top;\n",
              "    }\n",
              "\n",
              "    .dataframe thead th {\n",
              "        text-align: right;\n",
              "    }\n",
              "</style>\n",
              "<table border=\"1\" class=\"dataframe\">\n",
              "  <thead>\n",
              "    <tr style=\"text-align: right;\">\n",
              "      <th></th>\n",
              "      <th>Academic Year</th>\n",
              "      <th>Degree Type</th>\n",
              "      <th>Count</th>\n",
              "    </tr>\n",
              "  </thead>\n",
              "  <tbody>\n",
              "    <tr>\n",
              "      <th>0</th>\n",
              "      <td>False</td>\n",
              "      <td>False</td>\n",
              "      <td>False</td>\n",
              "    </tr>\n",
              "    <tr>\n",
              "      <th>1</th>\n",
              "      <td>False</td>\n",
              "      <td>False</td>\n",
              "      <td>False</td>\n",
              "    </tr>\n",
              "    <tr>\n",
              "      <th>2</th>\n",
              "      <td>False</td>\n",
              "      <td>False</td>\n",
              "      <td>False</td>\n",
              "    </tr>\n",
              "    <tr>\n",
              "      <th>3</th>\n",
              "      <td>False</td>\n",
              "      <td>False</td>\n",
              "      <td>False</td>\n",
              "    </tr>\n",
              "    <tr>\n",
              "      <th>4</th>\n",
              "      <td>False</td>\n",
              "      <td>False</td>\n",
              "      <td>False</td>\n",
              "    </tr>\n",
              "    <tr>\n",
              "      <th>...</th>\n",
              "      <td>...</td>\n",
              "      <td>...</td>\n",
              "      <td>...</td>\n",
              "    </tr>\n",
              "    <tr>\n",
              "      <th>482</th>\n",
              "      <td>False</td>\n",
              "      <td>False</td>\n",
              "      <td>False</td>\n",
              "    </tr>\n",
              "    <tr>\n",
              "      <th>483</th>\n",
              "      <td>False</td>\n",
              "      <td>False</td>\n",
              "      <td>False</td>\n",
              "    </tr>\n",
              "    <tr>\n",
              "      <th>484</th>\n",
              "      <td>False</td>\n",
              "      <td>False</td>\n",
              "      <td>False</td>\n",
              "    </tr>\n",
              "    <tr>\n",
              "      <th>485</th>\n",
              "      <td>False</td>\n",
              "      <td>False</td>\n",
              "      <td>False</td>\n",
              "    </tr>\n",
              "    <tr>\n",
              "      <th>486</th>\n",
              "      <td>False</td>\n",
              "      <td>False</td>\n",
              "      <td>False</td>\n",
              "    </tr>\n",
              "  </tbody>\n",
              "</table>\n",
              "<p>436 rows × 3 columns</p>\n",
              "</div>"
            ],
            "text/plain": [
              "     Academic Year  Degree Type  Count\n",
              "0            False        False  False\n",
              "1            False        False  False\n",
              "2            False        False  False\n",
              "3            False        False  False\n",
              "4            False        False  False\n",
              "..             ...          ...    ...\n",
              "482          False        False  False\n",
              "483          False        False  False\n",
              "484          False        False  False\n",
              "485          False        False  False\n",
              "486          False        False  False\n",
              "\n",
              "[436 rows x 3 columns]"
            ]
          },
          "metadata": {
            "tags": []
          },
          "execution_count": 95
        }
      ]
    },
    {
      "cell_type": "code",
      "metadata": {
        "colab": {
          "base_uri": "https://localhost:8080/",
          "height": 301
        },
        "id": "sUFudp6iHaZW",
        "outputId": "82256f2c-ea08-460a-820b-a5879f79e085"
      },
      "source": [
        "#Below's helpful function summarizes some statistical data like standard deviation, mean and other values from the data frame.\n",
        "df.describe()"
      ],
      "execution_count": null,
      "outputs": [
        {
          "output_type": "execute_result",
          "data": {
            "text/html": [
              "<div>\n",
              "<style scoped>\n",
              "    .dataframe tbody tr th:only-of-type {\n",
              "        vertical-align: middle;\n",
              "    }\n",
              "\n",
              "    .dataframe tbody tr th {\n",
              "        vertical-align: top;\n",
              "    }\n",
              "\n",
              "    .dataframe thead th {\n",
              "        text-align: right;\n",
              "    }\n",
              "</style>\n",
              "<table border=\"1\" class=\"dataframe\">\n",
              "  <thead>\n",
              "    <tr style=\"text-align: right;\">\n",
              "      <th></th>\n",
              "      <th>Count</th>\n",
              "    </tr>\n",
              "  </thead>\n",
              "  <tbody>\n",
              "    <tr>\n",
              "      <th>count</th>\n",
              "      <td>436.000000</td>\n",
              "    </tr>\n",
              "    <tr>\n",
              "      <th>mean</th>\n",
              "      <td>7753.467890</td>\n",
              "    </tr>\n",
              "    <tr>\n",
              "      <th>std</th>\n",
              "      <td>11094.235676</td>\n",
              "    </tr>\n",
              "    <tr>\n",
              "      <th>min</th>\n",
              "      <td>24.000000</td>\n",
              "    </tr>\n",
              "    <tr>\n",
              "      <th>25%</th>\n",
              "      <td>249.750000</td>\n",
              "    </tr>\n",
              "    <tr>\n",
              "      <th>50%</th>\n",
              "      <td>1004.000000</td>\n",
              "    </tr>\n",
              "    <tr>\n",
              "      <th>75%</th>\n",
              "      <td>10498.500000</td>\n",
              "    </tr>\n",
              "    <tr>\n",
              "      <th>max</th>\n",
              "      <td>57139.000000</td>\n",
              "    </tr>\n",
              "  </tbody>\n",
              "</table>\n",
              "</div>"
            ],
            "text/plain": [
              "              Count\n",
              "count    436.000000\n",
              "mean    7753.467890\n",
              "std    11094.235676\n",
              "min       24.000000\n",
              "25%      249.750000\n",
              "50%     1004.000000\n",
              "75%    10498.500000\n",
              "max    57139.000000"
            ]
          },
          "metadata": {
            "tags": []
          },
          "execution_count": 96
        }
      ]
    },
    {
      "cell_type": "code",
      "metadata": {
        "colab": {
          "base_uri": "https://localhost:8080/"
        },
        "id": "BVUXdUHSxGB_",
        "outputId": "c7780294-b01c-4e1b-b48f-a631686b6562"
      },
      "source": [
        "#Below's function shows the max value from the whole data frame but it appears to show us a \"total\" under degree types, it is not showing us an actual max of a degree type. \n",
        "df.max()"
      ],
      "execution_count": null,
      "outputs": [
        {
          "output_type": "execute_result",
          "data": {
            "text/plain": [
              "Academic Year    2019-2020\n",
              "Degree Type          Total\n",
              "Count                57139\n",
              "dtype: object"
            ]
          },
          "metadata": {
            "tags": []
          },
          "execution_count": 97
        }
      ]
    },
    {
      "cell_type": "code",
      "metadata": {
        "colab": {
          "base_uri": "https://localhost:8080/"
        },
        "id": "gdC9MYmhxKS9",
        "outputId": "a433293d-80c0-4679-8590-e224ec7ab7e4"
      },
      "source": [
        "#Below's function shows the minimum value from the whole data frame. (does not include 0 values since I removed those rows)\n",
        "df.min()"
      ],
      "execution_count": null,
      "outputs": [
        {
          "output_type": "execute_result",
          "data": {
            "text/plain": [
              "Academic Year               1966-1967\n",
              "Degree Type      ADVANCED CERTIFICATE\n",
              "Count                              24\n",
              "dtype: object"
            ]
          },
          "metadata": {
            "tags": []
          },
          "execution_count": 98
        }
      ]
    },
    {
      "cell_type": "code",
      "metadata": {
        "colab": {
          "base_uri": "https://localhost:8080/"
        },
        "id": "aXROfNOhw7nz",
        "outputId": "388bc289-4d50-407b-ec50-20188d75ed71"
      },
      "source": [
        "#Below's function shows the mean of all columns.\n",
        "df.mean()"
      ],
      "execution_count": null,
      "outputs": [
        {
          "output_type": "execute_result",
          "data": {
            "text/plain": [
              "Count    7753.46789\n",
              "dtype: float64"
            ]
          },
          "metadata": {
            "tags": []
          },
          "execution_count": 105
        }
      ]
    },
    {
      "cell_type": "code",
      "metadata": {
        "colab": {
          "base_uri": "https://localhost:8080/"
        },
        "id": "g6L0Dbf3j-kD",
        "outputId": "7273143b-f39c-4b28-85a0-e39971866866"
      },
      "source": [
        "#Below's function grouped the data by all the Degree Types and total per type. \n",
        "df.groupby(['Degree Type'])['Count'].sum()"
      ],
      "execution_count": null,
      "outputs": [
        {
          "output_type": "execute_result",
          "data": {
            "text/plain": [
              "Degree Type\n",
              "ADVANCED CERTIFICATE         6755\n",
              "ASSOCIATE                  133296\n",
              "Advance Certificate         15510\n",
              "Associate                  378019\n",
              "BACHELOR'S                 195052\n",
              "Baccalaureate              617008\n",
              "CERTIFICATE                  2220\n",
              "Certificate                  6956\n",
              "DOCTORAL                     4144\n",
              "J.D.                         2475\n",
              "JD                           1010\n",
              "MASTER'S                    66651\n",
              "MASTER'S OF PHILOSOPHY       2320\n",
              "MD                             45\n",
              "Master of Philosophy         6486\n",
              "Master's                   240421\n",
              "PhD                         11566\n",
              "TOTAL                      411493\n",
              "Total                     1279085\n",
              "Name: Count, dtype: int64"
            ]
          },
          "metadata": {
            "tags": []
          },
          "execution_count": 99
        }
      ]
    },
    {
      "cell_type": "code",
      "metadata": {
        "colab": {
          "base_uri": "https://localhost:8080/",
          "height": 1000
        },
        "id": "xIwVeOL3liaY",
        "outputId": "e80cb48b-947f-41b2-9307-173c40f4a044"
      },
      "source": [
        "#Below's function filtered the data to be looked at by the Degree Type of PhD granted over the years. \n",
        "df[df['Degree Type'].str.contains('PhD')]"
      ],
      "execution_count": null,
      "outputs": [
        {
          "output_type": "execute_result",
          "data": {
            "text/html": [
              "<div>\n",
              "<style scoped>\n",
              "    .dataframe tbody tr th:only-of-type {\n",
              "        vertical-align: middle;\n",
              "    }\n",
              "\n",
              "    .dataframe tbody tr th {\n",
              "        vertical-align: top;\n",
              "    }\n",
              "\n",
              "    .dataframe thead th {\n",
              "        text-align: right;\n",
              "    }\n",
              "</style>\n",
              "<table border=\"1\" class=\"dataframe\">\n",
              "  <thead>\n",
              "    <tr style=\"text-align: right;\">\n",
              "      <th></th>\n",
              "      <th>Academic Year</th>\n",
              "      <th>Degree Type</th>\n",
              "      <th>Count</th>\n",
              "    </tr>\n",
              "  </thead>\n",
              "  <tbody>\n",
              "    <tr>\n",
              "      <th>16</th>\n",
              "      <td>1966-1967</td>\n",
              "      <td>PhD</td>\n",
              "      <td>26</td>\n",
              "    </tr>\n",
              "    <tr>\n",
              "      <th>25</th>\n",
              "      <td>1967-1968</td>\n",
              "      <td>PhD</td>\n",
              "      <td>48</td>\n",
              "    </tr>\n",
              "    <tr>\n",
              "      <th>34</th>\n",
              "      <td>1968-1969</td>\n",
              "      <td>PhD</td>\n",
              "      <td>78</td>\n",
              "    </tr>\n",
              "    <tr>\n",
              "      <th>43</th>\n",
              "      <td>1969-1970</td>\n",
              "      <td>PhD</td>\n",
              "      <td>90</td>\n",
              "    </tr>\n",
              "    <tr>\n",
              "      <th>52</th>\n",
              "      <td>1970-1971</td>\n",
              "      <td>PhD</td>\n",
              "      <td>94</td>\n",
              "    </tr>\n",
              "    <tr>\n",
              "      <th>61</th>\n",
              "      <td>1971-1972</td>\n",
              "      <td>PhD</td>\n",
              "      <td>135</td>\n",
              "    </tr>\n",
              "    <tr>\n",
              "      <th>70</th>\n",
              "      <td>1972-1973</td>\n",
              "      <td>PhD</td>\n",
              "      <td>150</td>\n",
              "    </tr>\n",
              "    <tr>\n",
              "      <th>79</th>\n",
              "      <td>1973-1974</td>\n",
              "      <td>PhD</td>\n",
              "      <td>151</td>\n",
              "    </tr>\n",
              "    <tr>\n",
              "      <th>88</th>\n",
              "      <td>1974-1975</td>\n",
              "      <td>PhD</td>\n",
              "      <td>184</td>\n",
              "    </tr>\n",
              "    <tr>\n",
              "      <th>97</th>\n",
              "      <td>1975-1976</td>\n",
              "      <td>PhD</td>\n",
              "      <td>224</td>\n",
              "    </tr>\n",
              "    <tr>\n",
              "      <th>106</th>\n",
              "      <td>1976-1977</td>\n",
              "      <td>PhD</td>\n",
              "      <td>248</td>\n",
              "    </tr>\n",
              "    <tr>\n",
              "      <th>115</th>\n",
              "      <td>1977-1978</td>\n",
              "      <td>PhD</td>\n",
              "      <td>264</td>\n",
              "    </tr>\n",
              "    <tr>\n",
              "      <th>124</th>\n",
              "      <td>1978-1979</td>\n",
              "      <td>PhD</td>\n",
              "      <td>262</td>\n",
              "    </tr>\n",
              "    <tr>\n",
              "      <th>133</th>\n",
              "      <td>1979-1980</td>\n",
              "      <td>PhD</td>\n",
              "      <td>190</td>\n",
              "    </tr>\n",
              "    <tr>\n",
              "      <th>142</th>\n",
              "      <td>1980-1981</td>\n",
              "      <td>PhD</td>\n",
              "      <td>213</td>\n",
              "    </tr>\n",
              "    <tr>\n",
              "      <th>151</th>\n",
              "      <td>1981-1982</td>\n",
              "      <td>PhD</td>\n",
              "      <td>203</td>\n",
              "    </tr>\n",
              "    <tr>\n",
              "      <th>160</th>\n",
              "      <td>1982-1983</td>\n",
              "      <td>PhD</td>\n",
              "      <td>208</td>\n",
              "    </tr>\n",
              "    <tr>\n",
              "      <th>169</th>\n",
              "      <td>1983-1984</td>\n",
              "      <td>PhD</td>\n",
              "      <td>200</td>\n",
              "    </tr>\n",
              "    <tr>\n",
              "      <th>178</th>\n",
              "      <td>1984-1985</td>\n",
              "      <td>PhD</td>\n",
              "      <td>234</td>\n",
              "    </tr>\n",
              "    <tr>\n",
              "      <th>187</th>\n",
              "      <td>1985-1986</td>\n",
              "      <td>PhD</td>\n",
              "      <td>232</td>\n",
              "    </tr>\n",
              "    <tr>\n",
              "      <th>196</th>\n",
              "      <td>1986-1987</td>\n",
              "      <td>PhD</td>\n",
              "      <td>232</td>\n",
              "    </tr>\n",
              "    <tr>\n",
              "      <th>205</th>\n",
              "      <td>1987-1988</td>\n",
              "      <td>PhD</td>\n",
              "      <td>258</td>\n",
              "    </tr>\n",
              "    <tr>\n",
              "      <th>214</th>\n",
              "      <td>1988-1989</td>\n",
              "      <td>PhD</td>\n",
              "      <td>225</td>\n",
              "    </tr>\n",
              "    <tr>\n",
              "      <th>223</th>\n",
              "      <td>1989-1990</td>\n",
              "      <td>PhD</td>\n",
              "      <td>259</td>\n",
              "    </tr>\n",
              "    <tr>\n",
              "      <th>232</th>\n",
              "      <td>1990-1991</td>\n",
              "      <td>PhD</td>\n",
              "      <td>320</td>\n",
              "    </tr>\n",
              "    <tr>\n",
              "      <th>241</th>\n",
              "      <td>1991-1992</td>\n",
              "      <td>PhD</td>\n",
              "      <td>257</td>\n",
              "    </tr>\n",
              "    <tr>\n",
              "      <th>250</th>\n",
              "      <td>1992-1993</td>\n",
              "      <td>PhD</td>\n",
              "      <td>318</td>\n",
              "    </tr>\n",
              "    <tr>\n",
              "      <th>259</th>\n",
              "      <td>1993-1994</td>\n",
              "      <td>PhD</td>\n",
              "      <td>286</td>\n",
              "    </tr>\n",
              "    <tr>\n",
              "      <th>268</th>\n",
              "      <td>1994-1995</td>\n",
              "      <td>PhD</td>\n",
              "      <td>294</td>\n",
              "    </tr>\n",
              "    <tr>\n",
              "      <th>277</th>\n",
              "      <td>1995-1996</td>\n",
              "      <td>PhD</td>\n",
              "      <td>302</td>\n",
              "    </tr>\n",
              "    <tr>\n",
              "      <th>286</th>\n",
              "      <td>1996-1997</td>\n",
              "      <td>PhD</td>\n",
              "      <td>310</td>\n",
              "    </tr>\n",
              "    <tr>\n",
              "      <th>295</th>\n",
              "      <td>1997-1998</td>\n",
              "      <td>PhD</td>\n",
              "      <td>333</td>\n",
              "    </tr>\n",
              "    <tr>\n",
              "      <th>304</th>\n",
              "      <td>1998-1999</td>\n",
              "      <td>PhD</td>\n",
              "      <td>277</td>\n",
              "    </tr>\n",
              "    <tr>\n",
              "      <th>313</th>\n",
              "      <td>1999-2000</td>\n",
              "      <td>PhD</td>\n",
              "      <td>280</td>\n",
              "    </tr>\n",
              "    <tr>\n",
              "      <th>322</th>\n",
              "      <td>2000-2001</td>\n",
              "      <td>PhD</td>\n",
              "      <td>250</td>\n",
              "    </tr>\n",
              "    <tr>\n",
              "      <th>331</th>\n",
              "      <td>2001-2002</td>\n",
              "      <td>PhD</td>\n",
              "      <td>271</td>\n",
              "    </tr>\n",
              "    <tr>\n",
              "      <th>340</th>\n",
              "      <td>2002-2003</td>\n",
              "      <td>PhD</td>\n",
              "      <td>272</td>\n",
              "    </tr>\n",
              "    <tr>\n",
              "      <th>349</th>\n",
              "      <td>2003-2004</td>\n",
              "      <td>PhD</td>\n",
              "      <td>298</td>\n",
              "    </tr>\n",
              "    <tr>\n",
              "      <th>358</th>\n",
              "      <td>2004-2005</td>\n",
              "      <td>PhD</td>\n",
              "      <td>298</td>\n",
              "    </tr>\n",
              "    <tr>\n",
              "      <th>367</th>\n",
              "      <td>2005-2006</td>\n",
              "      <td>PhD</td>\n",
              "      <td>330</td>\n",
              "    </tr>\n",
              "    <tr>\n",
              "      <th>376</th>\n",
              "      <td>2006-2007</td>\n",
              "      <td>PhD</td>\n",
              "      <td>303</td>\n",
              "    </tr>\n",
              "    <tr>\n",
              "      <th>385</th>\n",
              "      <td>2007-2008</td>\n",
              "      <td>PhD</td>\n",
              "      <td>358</td>\n",
              "    </tr>\n",
              "    <tr>\n",
              "      <th>394</th>\n",
              "      <td>2008-2009</td>\n",
              "      <td>PhD</td>\n",
              "      <td>410</td>\n",
              "    </tr>\n",
              "    <tr>\n",
              "      <th>403</th>\n",
              "      <td>2009-2010</td>\n",
              "      <td>PhD</td>\n",
              "      <td>408</td>\n",
              "    </tr>\n",
              "    <tr>\n",
              "      <th>412</th>\n",
              "      <td>2010-2011</td>\n",
              "      <td>PhD</td>\n",
              "      <td>489</td>\n",
              "    </tr>\n",
              "    <tr>\n",
              "      <th>421</th>\n",
              "      <td>2011-2012</td>\n",
              "      <td>PhD</td>\n",
              "      <td>494</td>\n",
              "    </tr>\n",
              "  </tbody>\n",
              "</table>\n",
              "</div>"
            ],
            "text/plain": [
              "    Academic Year Degree Type  Count\n",
              "16      1966-1967         PhD     26\n",
              "25      1967-1968         PhD     48\n",
              "34      1968-1969         PhD     78\n",
              "43      1969-1970         PhD     90\n",
              "52      1970-1971         PhD     94\n",
              "61      1971-1972         PhD    135\n",
              "70      1972-1973         PhD    150\n",
              "79      1973-1974         PhD    151\n",
              "88      1974-1975         PhD    184\n",
              "97      1975-1976         PhD    224\n",
              "106     1976-1977         PhD    248\n",
              "115     1977-1978         PhD    264\n",
              "124     1978-1979         PhD    262\n",
              "133     1979-1980         PhD    190\n",
              "142     1980-1981         PhD    213\n",
              "151     1981-1982         PhD    203\n",
              "160     1982-1983         PhD    208\n",
              "169     1983-1984         PhD    200\n",
              "178     1984-1985         PhD    234\n",
              "187     1985-1986         PhD    232\n",
              "196     1986-1987         PhD    232\n",
              "205     1987-1988         PhD    258\n",
              "214     1988-1989         PhD    225\n",
              "223     1989-1990         PhD    259\n",
              "232     1990-1991         PhD    320\n",
              "241     1991-1992         PhD    257\n",
              "250     1992-1993         PhD    318\n",
              "259     1993-1994         PhD    286\n",
              "268     1994-1995         PhD    294\n",
              "277     1995-1996         PhD    302\n",
              "286     1996-1997         PhD    310\n",
              "295     1997-1998         PhD    333\n",
              "304     1998-1999         PhD    277\n",
              "313     1999-2000         PhD    280\n",
              "322     2000-2001         PhD    250\n",
              "331     2001-2002         PhD    271\n",
              "340     2002-2003         PhD    272\n",
              "349     2003-2004         PhD    298\n",
              "358     2004-2005         PhD    298\n",
              "367     2005-2006         PhD    330\n",
              "376     2006-2007         PhD    303\n",
              "385     2007-2008         PhD    358\n",
              "394     2008-2009         PhD    410\n",
              "403     2009-2010         PhD    408\n",
              "412     2010-2011         PhD    489\n",
              "421     2011-2012         PhD    494"
            ]
          },
          "metadata": {
            "tags": []
          },
          "execution_count": 100
        }
      ]
    },
    {
      "cell_type": "code",
      "metadata": {
        "colab": {
          "base_uri": "https://localhost:8080/"
        },
        "id": "1ecMDDNnxf81",
        "outputId": "bc8f9eef-3afa-4e56-990c-e489f1a64d3f"
      },
      "source": [
        "#Below's function grouped the data Academic Year and total degrees per year.\n",
        "df.groupby('Academic Year')['Count'].sum()"
      ],
      "execution_count": null,
      "outputs": [
        {
          "output_type": "execute_result",
          "data": {
            "text/plain": [
              "Academic Year\n",
              "1966-1967     35012\n",
              "1967-1968     39506\n",
              "1968-1969     43500\n",
              "1969-1970     45920\n",
              "1970-1971     51110\n",
              "1971-1972     58104\n",
              "1972-1973     62142\n",
              "1973-1974     65756\n",
              "1974-1975     68174\n",
              "1975-1976     68710\n",
              "1976-1977     62220\n",
              "1977-1978     53956\n",
              "1978-1979     48372\n",
              "1979-1980     46396\n",
              "1980-1981     43452\n",
              "1981-1982     40822\n",
              "1982-1983     40270\n",
              "1983-1984     40572\n",
              "1984-1985     41206\n",
              "1985-1986     42136\n",
              "1986-1987     41814\n",
              "1987-1988     43502\n",
              "1988-1989     43832\n",
              "1989-1990     44484\n",
              "1990-1991     46180\n",
              "1991-1992     47650\n",
              "1992-1993     51666\n",
              "1993-1994     52330\n",
              "1994-1995     54030\n",
              "1995-1996     55692\n",
              "1996-1997     58906\n",
              "1997-1998     57242\n",
              "1998-1999     57636\n",
              "1999-2000     56158\n",
              "2000-2001     57862\n",
              "2001-2002     58480\n",
              "2002-2003     61926\n",
              "2003-2004     61774\n",
              "2004-2005     66072\n",
              "2005-2006     66922\n",
              "2006-2007     69490\n",
              "2007-2008     72126\n",
              "2008-2009     74770\n",
              "2009-2010     79174\n",
              "2010-2011     88970\n",
              "2011-2012     91502\n",
              "2012-2013     92858\n",
              "2013-2014     95552\n",
              "2014-2015     96250\n",
              "2015-2016    100044\n",
              "2016-2017    103066\n",
              "2017-2018    107884\n",
              "2018-2019    114278\n",
              "2019-2020    113054\n",
              "Name: Count, dtype: int64"
            ]
          },
          "metadata": {
            "tags": []
          },
          "execution_count": 111
        }
      ]
    },
    {
      "cell_type": "code",
      "metadata": {
        "colab": {
          "base_uri": "https://localhost:8080/",
          "height": 298
        },
        "id": "hxxHUrwA2x68",
        "outputId": "ba66d4b2-d018-4c08-aad1-f0f670cda806"
      },
      "source": [
        "#the below visual is a type of scatterplot which shows degree type and count.\n",
        "sns.stripplot(x='Count',y='Degree Type',data=df)"
      ],
      "execution_count": null,
      "outputs": [
        {
          "output_type": "execute_result",
          "data": {
            "text/plain": [
              "<matplotlib.axes._subplots.AxesSubplot at 0x7f076543f550>"
            ]
          },
          "metadata": {
            "tags": []
          },
          "execution_count": 101
        },
        {
          "output_type": "display_data",
          "data": {
            "image/png": "[encoded data removed]",
            "text/plain": [
              "<Figure size 432x288 with 1 Axes>"
            ]
          },
          "metadata": {
            "tags": [],
            "needs_background": "light"
          }
        }
      ]
    },
    {
      "cell_type": "code",
      "metadata": {
        "colab": {
          "base_uri": "https://localhost:8080/",
          "height": 336
        },
        "id": "DbY2rINSv7XZ",
        "outputId": "5cb043f9-b43c-4e9d-9970-d0b74b860f46"
      },
      "source": [
        "#the below visual is a type of scatterplot which shows degree type and count, this distplot shows a histogram with a line on it.\n",
        "sns.distplot(df['Count'], bins = 30)\n",
        "plt.show()"
      ],
      "execution_count": null,
      "outputs": [
        {
          "output_type": "stream",
          "text": [
            "/usr/local/lib/python3.7/dist-packages/seaborn/distributions.py:2557: FutureWarning: `distplot` is a deprecated function and will be removed in a future version. Please adapt your code to use either `displot` (a figure-level function with similar flexibility) or `histplot` (an axes-level function for histograms).\n",
            "  warnings.warn(msg, FutureWarning)\n"
          ],
          "name": "stderr"
        },
        {
          "output_type": "display_data",
          "data": {
            "image/png": "[encoded data removed]",
            "text/plain": [
              "<Figure size 432x288 with 1 Axes>"
            ]
          },
          "metadata": {
            "tags": [],
            "needs_background": "light"
          }
        }
      ]
    },
    {
      "cell_type": "code",
      "metadata": {
        "id": "oiFBmjVGaFc7",
        "colab": {
          "base_uri": "https://localhost:8080/",
          "height": 298
        },
        "outputId": "201527b9-ff48-4258-c6b8-06a9c62c1d55"
      },
      "source": [
        "#Shows point estimates & confidence intervals of degree type and count.\n",
        "sns.pointplot(x = 'Count' , y ='Degree Type' , data =df)"
      ],
      "execution_count": null,
      "outputs": [
        {
          "output_type": "execute_result",
          "data": {
            "text/plain": [
              "<matplotlib.axes._subplots.AxesSubplot at 0x7f0765519750>"
            ]
          },
          "metadata": {
            "tags": []
          },
          "execution_count": 112
        },
        {
          "output_type": "display_data",
          "data": {
            "image/png": "[encoded data removed]",
            "text/plain": [
              "<Figure size 432x288 with 1 Axes>"
            ]
          },
          "metadata": {
            "tags": [],
            "needs_background": "light"
          }
        }
      ]
    },
    {
      "cell_type": "code",
      "metadata": {
        "id": "IBnwvlch-p7B",
        "colab": {
          "base_uri": "https://localhost:8080/",
          "height": 298
        },
        "outputId": "05476f11-b2cc-45e0-9661-600fb0abe1f8"
      },
      "source": [
        "#Shows count of observations of degree type and count.\n",
        "sns.countplot(y='Degree Type',data=df, palette=\"Accent_r\")"
      ],
      "execution_count": null,
      "outputs": [
        {
          "output_type": "execute_result",
          "data": {
            "text/plain": [
              "<matplotlib.axes._subplots.AxesSubplot at 0x7f076527a4d0>"
            ]
          },
          "metadata": {
            "tags": []
          },
          "execution_count": 113
        },
        {
          "output_type": "display_data",
          "data": {
            "image/png": "[encoded data removed]",
            "text/plain": [
              "<Figure size 432x288 with 1 Axes>"
            ]
          },
          "metadata": {
            "tags": [],
            "needs_background": "light"
          }
        }
      ]
    },
    {
      "cell_type": "code",
      "metadata": {
        "id": "TTqI_0qmiYwV"
      },
      "source": [
        "#Conclusion: While working on this project I noticed that I would have liked if this dataset included more \n",
        "#records such as degrees completed by males and females, including age groups and GPAs, etc. These \n",
        "#extra details in the data would have created better visuals and analyses. \n",
        "\n",
        "#Also, throughout some of the functions I noticed that there were modifications needed throughout the data, \n",
        "#for instance, when I ran the max function “total” came up as max, when it should have been a degree \n",
        "#type. Also, there were some degree types listed more than once in a different way, such as \n",
        "#“ADVANCED CERTIFICATE” and “Advance Certificate”. \n"
      ],
      "execution_count": null,
      "outputs": []
    }
  ]
}