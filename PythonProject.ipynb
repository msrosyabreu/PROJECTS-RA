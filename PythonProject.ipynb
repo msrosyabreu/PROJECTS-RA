{
  "nbformat": 4,
  "nbformat_minor": 0,
  "metadata": {
    "colab": {
      "name": "Untitled17.ipynb",
      "provenance": [],
      "authorship_tag": "ABX9TyNNoBh/LSZeOfy1WDMLy8l7",
      "include_colab_link": true
    },
    "kernelspec": {
      "name": "python3",
      "display_name": "Python 3"
    },
    "language_info": {
      "name": "python"
    }
  },
  "cells": [
    {
      "cell_type": "markdown",
      "metadata": {
        "id": "view-in-github",
        "colab_type": "text"
      },
      "source": [
        "<a href=\"https://colab.research.google.com/github/msrosyabreu/PROJECTS-RA/blob/main/PythonProject.ipynb\" target=\"_parent\"><img src=\"https://colab.research.google.com/assets/colab-badge.svg\" alt=\"Open In Colab\"/></a>"
      ]
    },
    {
      "cell_type": "code",
      "metadata": {
        "id": "U1cRiuaVvUuo"
      },
      "source": [
        "import numpy as np\n",
        "import pandas as pd\n",
        "from numpy.random import random\n",
        "\n",
        "df = pd.read_csv('https://raw.githubusercontent.com/CunyLaguardiaDataAnalytics/datasets/master/2014-15_To_2016-17_School-_Level_NYC_Regents_Report_For_All_Variables.csv')\n"
      ],
      "execution_count": 28,
      "outputs": []
    },
    {
      "cell_type": "code",
      "metadata": {
        "colab": {
          "base_uri": "https://localhost:8080/",
          "height": 301
        },
        "id": "yLfycqteByQb",
        "outputId": "5bf0b134-e489-4765-90c6-fc099d21ead1"
      },
      "source": [
        "df.describe()"
      ],
      "execution_count": 29,
      "outputs": [
        {
          "output_type": "execute_result",
          "data": {
            "text/html": [
              "<div>\n",
              "<style scoped>\n",
              "    .dataframe tbody tr th:only-of-type {\n",
              "        vertical-align: middle;\n",
              "    }\n",
              "\n",
              "    .dataframe tbody tr th {\n",
              "        vertical-align: top;\n",
              "    }\n",
              "\n",
              "    .dataframe thead th {\n",
              "        text-align: right;\n",
              "    }\n",
              "</style>\n",
              "<table border=\"1\" class=\"dataframe\">\n",
              "  <thead>\n",
              "    <tr style=\"text-align: right;\">\n",
              "      <th></th>\n",
              "      <th>Year</th>\n",
              "      <th>Total Tested</th>\n",
              "    </tr>\n",
              "  </thead>\n",
              "  <tbody>\n",
              "    <tr>\n",
              "      <th>count</th>\n",
              "      <td>212331.000000</td>\n",
              "      <td>212331.000000</td>\n",
              "    </tr>\n",
              "    <tr>\n",
              "      <th>mean</th>\n",
              "      <td>2015.956069</td>\n",
              "      <td>49.364200</td>\n",
              "    </tr>\n",
              "    <tr>\n",
              "      <th>std</th>\n",
              "      <td>0.799726</td>\n",
              "      <td>93.023576</td>\n",
              "    </tr>\n",
              "    <tr>\n",
              "      <th>min</th>\n",
              "      <td>2015.000000</td>\n",
              "      <td>1.000000</td>\n",
              "    </tr>\n",
              "    <tr>\n",
              "      <th>25%</th>\n",
              "      <td>2015.000000</td>\n",
              "      <td>5.000000</td>\n",
              "    </tr>\n",
              "    <tr>\n",
              "      <th>50%</th>\n",
              "      <td>2016.000000</td>\n",
              "      <td>20.000000</td>\n",
              "    </tr>\n",
              "    <tr>\n",
              "      <th>75%</th>\n",
              "      <td>2017.000000</td>\n",
              "      <td>57.000000</td>\n",
              "    </tr>\n",
              "    <tr>\n",
              "      <th>max</th>\n",
              "      <td>2017.000000</td>\n",
              "      <td>1729.000000</td>\n",
              "    </tr>\n",
              "  </tbody>\n",
              "</table>\n",
              "</div>"
            ],
            "text/plain": [
              "                Year   Total Tested\n",
              "count  212331.000000  212331.000000\n",
              "mean     2015.956069      49.364200\n",
              "std         0.799726      93.023576\n",
              "min      2015.000000       1.000000\n",
              "25%      2015.000000       5.000000\n",
              "50%      2016.000000      20.000000\n",
              "75%      2017.000000      57.000000\n",
              "max      2017.000000    1729.000000"
            ]
          },
          "metadata": {
            "tags": []
          },
          "execution_count": 29
        }
      ]
    },
    {
      "cell_type": "markdown",
      "metadata": {
        "id": "piXZCNmx335-"
      },
      "source": [
        "**^this describe function mainly calculated descriptive stats data like count, percentile, mean and std of the numerical values of the dataset provided. For example, the total tested under this dataset was 212,331 students**"
      ]
    },
    {
      "cell_type": "code",
      "metadata": {
        "colab": {
          "base_uri": "https://localhost:8080/"
        },
        "id": "MMlwU-FlDdiH",
        "outputId": "856a8f0c-16df-461e-cca9-7129b82ccec9"
      },
      "source": [
        "df.median()"
      ],
      "execution_count": 32,
      "outputs": [
        {
          "output_type": "execute_result",
          "data": {
            "text/plain": [
              "Year            2016.0\n",
              "Total Tested      20.0\n",
              "dtype: float64"
            ]
          },
          "metadata": {
            "tags": []
          },
          "execution_count": 32
        }
      ]
    },
    {
      "cell_type": "code",
      "metadata": {
        "colab": {
          "base_uri": "https://localhost:8080/"
        },
        "id": "aJ__p8zxDaVR",
        "outputId": "f6e1b5fc-7f1a-44c6-ed86-d84fbd510def"
      },
      "source": [
        "df.mean()"
      ],
      "execution_count": 6,
      "outputs": [
        {
          "output_type": "execute_result",
          "data": {
            "text/plain": [
              "Year            2015.956069\n",
              "Total Tested      49.364200\n",
              "dtype: float64"
            ]
          },
          "metadata": {
            "tags": []
          },
          "execution_count": 6
        }
      ]
    },
    {
      "cell_type": "code",
      "metadata": {
        "colab": {
          "base_uri": "https://localhost:8080/",
          "height": 502
        },
        "id": "XpgSHECvwZBa",
        "outputId": "afabdbc7-c83e-4e79-a659-90fe910532b7"
      },
      "source": [
        "df.head(10)"
      ],
      "execution_count": 7,
      "outputs": [
        {
          "output_type": "execute_result",
          "data": {
            "text/html": [
              "<div>\n",
              "<style scoped>\n",
              "    .dataframe tbody tr th:only-of-type {\n",
              "        vertical-align: middle;\n",
              "    }\n",
              "\n",
              "    .dataframe tbody tr th {\n",
              "        vertical-align: top;\n",
              "    }\n",
              "\n",
              "    .dataframe thead th {\n",
              "        text-align: right;\n",
              "    }\n",
              "</style>\n",
              "<table border=\"1\" class=\"dataframe\">\n",
              "  <thead>\n",
              "    <tr style=\"text-align: right;\">\n",
              "      <th></th>\n",
              "      <th>School DBN</th>\n",
              "      <th>School Name</th>\n",
              "      <th>School Level</th>\n",
              "      <th>Regents Exam</th>\n",
              "      <th>Year</th>\n",
              "      <th>Total Tested</th>\n",
              "      <th>Mean Score</th>\n",
              "      <th>Number Scoring Below 65</th>\n",
              "      <th>Percent Scoring Below 65</th>\n",
              "      <th>Number Scoring 65 or Above</th>\n",
              "      <th>Percent Scoring 65 or Above</th>\n",
              "      <th>Number Scoring 80 or Above</th>\n",
              "      <th>Percent Scoring 80 or Above</th>\n",
              "      <th>Number Scoring CR</th>\n",
              "      <th>Percent Scoring CR</th>\n",
              "    </tr>\n",
              "  </thead>\n",
              "  <tbody>\n",
              "    <tr>\n",
              "      <th>0</th>\n",
              "      <td>01M034</td>\n",
              "      <td>P.S. 034 Franklin D. Roosevelt</td>\n",
              "      <td>K-8</td>\n",
              "      <td>Common Core Algebra</td>\n",
              "      <td>2017</td>\n",
              "      <td>4</td>\n",
              "      <td>s</td>\n",
              "      <td>s</td>\n",
              "      <td>s</td>\n",
              "      <td>s</td>\n",
              "      <td>s</td>\n",
              "      <td>s</td>\n",
              "      <td>s</td>\n",
              "      <td>na</td>\n",
              "      <td>na</td>\n",
              "    </tr>\n",
              "    <tr>\n",
              "      <th>1</th>\n",
              "      <td>01M034</td>\n",
              "      <td>P.S. 034 Franklin D. Roosevelt</td>\n",
              "      <td>K-8</td>\n",
              "      <td>Living Environment</td>\n",
              "      <td>2015</td>\n",
              "      <td>16</td>\n",
              "      <td>77.9</td>\n",
              "      <td>1</td>\n",
              "      <td>6.3</td>\n",
              "      <td>15</td>\n",
              "      <td>93.8</td>\n",
              "      <td>7</td>\n",
              "      <td>43.8</td>\n",
              "      <td>na</td>\n",
              "      <td>na</td>\n",
              "    </tr>\n",
              "    <tr>\n",
              "      <th>2</th>\n",
              "      <td>01M034</td>\n",
              "      <td>P.S. 034 Franklin D. Roosevelt</td>\n",
              "      <td>K-8</td>\n",
              "      <td>Living Environment</td>\n",
              "      <td>2016</td>\n",
              "      <td>9</td>\n",
              "      <td>74</td>\n",
              "      <td>1</td>\n",
              "      <td>11.1</td>\n",
              "      <td>8</td>\n",
              "      <td>88.9</td>\n",
              "      <td>2</td>\n",
              "      <td>22.2</td>\n",
              "      <td>na</td>\n",
              "      <td>na</td>\n",
              "    </tr>\n",
              "    <tr>\n",
              "      <th>3</th>\n",
              "      <td>01M140</td>\n",
              "      <td>P.S. 140 Nathan Straus</td>\n",
              "      <td>K-8</td>\n",
              "      <td>Common Core Algebra</td>\n",
              "      <td>2016</td>\n",
              "      <td>3</td>\n",
              "      <td>s</td>\n",
              "      <td>s</td>\n",
              "      <td>s</td>\n",
              "      <td>s</td>\n",
              "      <td>s</td>\n",
              "      <td>s</td>\n",
              "      <td>s</td>\n",
              "      <td>na</td>\n",
              "      <td>na</td>\n",
              "    </tr>\n",
              "    <tr>\n",
              "      <th>4</th>\n",
              "      <td>01M140</td>\n",
              "      <td>P.S. 140 Nathan Straus</td>\n",
              "      <td>K-8</td>\n",
              "      <td>Common Core Algebra</td>\n",
              "      <td>2017</td>\n",
              "      <td>2</td>\n",
              "      <td>s</td>\n",
              "      <td>s</td>\n",
              "      <td>s</td>\n",
              "      <td>s</td>\n",
              "      <td>s</td>\n",
              "      <td>s</td>\n",
              "      <td>s</td>\n",
              "      <td>na</td>\n",
              "      <td>na</td>\n",
              "    </tr>\n",
              "    <tr>\n",
              "      <th>5</th>\n",
              "      <td>01M140</td>\n",
              "      <td>P.S. 140 Nathan Straus</td>\n",
              "      <td>K-8</td>\n",
              "      <td>Living Environment</td>\n",
              "      <td>2015</td>\n",
              "      <td>9</td>\n",
              "      <td>67.4</td>\n",
              "      <td>3</td>\n",
              "      <td>33.3</td>\n",
              "      <td>6</td>\n",
              "      <td>66.7</td>\n",
              "      <td>0</td>\n",
              "      <td>0</td>\n",
              "      <td>na</td>\n",
              "      <td>na</td>\n",
              "    </tr>\n",
              "    <tr>\n",
              "      <th>6</th>\n",
              "      <td>01M140</td>\n",
              "      <td>P.S. 140 Nathan Straus</td>\n",
              "      <td>K-8</td>\n",
              "      <td>Living Environment</td>\n",
              "      <td>2016</td>\n",
              "      <td>15</td>\n",
              "      <td>72.6</td>\n",
              "      <td>2</td>\n",
              "      <td>13.3</td>\n",
              "      <td>13</td>\n",
              "      <td>86.7</td>\n",
              "      <td>5</td>\n",
              "      <td>33.3</td>\n",
              "      <td>na</td>\n",
              "      <td>na</td>\n",
              "    </tr>\n",
              "    <tr>\n",
              "      <th>7</th>\n",
              "      <td>01M140</td>\n",
              "      <td>P.S. 140 Nathan Straus</td>\n",
              "      <td>K-8</td>\n",
              "      <td>Living Environment</td>\n",
              "      <td>2017</td>\n",
              "      <td>9</td>\n",
              "      <td>64.4</td>\n",
              "      <td>5</td>\n",
              "      <td>55.6</td>\n",
              "      <td>4</td>\n",
              "      <td>44.4</td>\n",
              "      <td>1</td>\n",
              "      <td>11.1</td>\n",
              "      <td>na</td>\n",
              "      <td>na</td>\n",
              "    </tr>\n",
              "    <tr>\n",
              "      <th>8</th>\n",
              "      <td>01M184</td>\n",
              "      <td>P.S. 184m Shuang Wen</td>\n",
              "      <td>K-8</td>\n",
              "      <td>Common Core Algebra</td>\n",
              "      <td>2015</td>\n",
              "      <td>49</td>\n",
              "      <td>78.4</td>\n",
              "      <td>1</td>\n",
              "      <td>2</td>\n",
              "      <td>48</td>\n",
              "      <td>98</td>\n",
              "      <td>23</td>\n",
              "      <td>46.9</td>\n",
              "      <td>48</td>\n",
              "      <td>98</td>\n",
              "    </tr>\n",
              "    <tr>\n",
              "      <th>9</th>\n",
              "      <td>01M184</td>\n",
              "      <td>P.S. 184m Shuang Wen</td>\n",
              "      <td>K-8</td>\n",
              "      <td>Common Core Algebra</td>\n",
              "      <td>2016</td>\n",
              "      <td>51</td>\n",
              "      <td>79</td>\n",
              "      <td>9</td>\n",
              "      <td>17.6</td>\n",
              "      <td>42</td>\n",
              "      <td>82.4</td>\n",
              "      <td>33</td>\n",
              "      <td>64.7</td>\n",
              "      <td>40</td>\n",
              "      <td>78.4</td>\n",
              "    </tr>\n",
              "  </tbody>\n",
              "</table>\n",
              "</div>"
            ],
            "text/plain": [
              "  School DBN  ... Percent Scoring CR\n",
              "0     01M034  ...                 na\n",
              "1     01M034  ...                 na\n",
              "2     01M034  ...                 na\n",
              "3     01M140  ...                 na\n",
              "4     01M140  ...                 na\n",
              "5     01M140  ...                 na\n",
              "6     01M140  ...                 na\n",
              "7     01M140  ...                 na\n",
              "8     01M184  ...                 98\n",
              "9     01M184  ...               78.4\n",
              "\n",
              "[10 rows x 15 columns]"
            ]
          },
          "metadata": {
            "tags": []
          },
          "execution_count": 7
        }
      ]
    },
    {
      "cell_type": "markdown",
      "metadata": {
        "id": "Tm7hLQov4bZ9"
      },
      "source": [
        "**^ above you will see the median of the dataset which is mainly the middle data point, in this case it is showing up as 20 being tested in 2016. Also, the mean which is the central location of the data which it shows as 49.4 in 2015+. The Head function shows us the first 10 rows of data.** \n"
      ]
    },
    {
      "cell_type": "code",
      "metadata": {
        "colab": {
          "base_uri": "https://localhost:8080/"
        },
        "id": "J9XCCdsj3xfY",
        "outputId": "cab5fb87-01e2-483f-edf9-413eccfef48a"
      },
      "source": [
        "df.max()"
      ],
      "execution_count": 8,
      "outputs": [
        {
          "output_type": "execute_result",
          "data": {
            "text/plain": [
              "School DBN                                                      84X717\n",
              "School Name                    Young Women's Leadership School, Queens\n",
              "School Level                                          Secondary School\n",
              "Year                                                              2017\n",
              "Total Tested                                                      1729\n",
              "Mean Score                                                           s\n",
              "Number Scoring Below 65                                              s\n",
              "Percent Scoring Below 65                                             s\n",
              "Number Scoring 65 or Above                                           s\n",
              "Percent Scoring 65 or Above                                          s\n",
              "Number Scoring 80 or Above                                           s\n",
              "Percent Scoring 80 or Above                                          s\n",
              "Number Scoring CR                                                   na\n",
              "Percent Scoring CR                                                  na\n",
              "dtype: object"
            ]
          },
          "metadata": {
            "tags": []
          },
          "execution_count": 8
        }
      ]
    },
    {
      "cell_type": "code",
      "metadata": {
        "colab": {
          "base_uri": "https://localhost:8080/"
        },
        "id": "2R7Tqnia46Dx",
        "outputId": "f7317f7f-b7dc-4b70-894a-5946e329931f"
      },
      "source": [
        "df.min()"
      ],
      "execution_count": 9,
      "outputs": [
        {
          "output_type": "execute_result",
          "data": {
            "text/plain": [
              "School DBN                                                                01M034\n",
              "School Name                    47 The American Sign Language and English Seco...\n",
              "School Level                                                          Elementary\n",
              "Year                                                                        2015\n",
              "Total Tested                                                                   1\n",
              "Mean Score                                                                    15\n",
              "Number Scoring Below 65                                                        0\n",
              "Percent Scoring Below 65                                                       0\n",
              "Number Scoring 65 or Above                                                     0\n",
              "Percent Scoring 65 or Above                                                    0\n",
              "Number Scoring 80 or Above                                                     0\n",
              "Percent Scoring 80 or Above                                                    0\n",
              "Number Scoring CR                                                              0\n",
              "Percent Scoring CR                                                             0\n",
              "dtype: object"
            ]
          },
          "metadata": {
            "tags": []
          },
          "execution_count": 9
        }
      ]
    },
    {
      "cell_type": "markdown",
      "metadata": {
        "id": "NgKbXZ_D7Lg2"
      },
      "source": [
        "**^The above max and min demonstrate the maximum and minimum vaules in the dataset, in this case max was stats for Young Women's Leadership School with a total tested of 1729, and the min was stats from 47 The American Sign Language and English with a total tested of 1 with a mean score of 15.** "
      ]
    },
    {
      "cell_type": "code",
      "metadata": {
        "colab": {
          "base_uri": "https://localhost:8080/",
          "height": 615
        },
        "id": "AasO6qTFHyxN",
        "outputId": "7962dc61-22ce-4f1c-8a7e-4709531c4fea"
      },
      "source": [
        "df.iloc[13853:191208]"
      ],
      "execution_count": 10,
      "outputs": [
        {
          "output_type": "execute_result",
          "data": {
            "text/html": [
              "<div>\n",
              "<style scoped>\n",
              "    .dataframe tbody tr th:only-of-type {\n",
              "        vertical-align: middle;\n",
              "    }\n",
              "\n",
              "    .dataframe tbody tr th {\n",
              "        vertical-align: top;\n",
              "    }\n",
              "\n",
              "    .dataframe thead th {\n",
              "        text-align: right;\n",
              "    }\n",
              "</style>\n",
              "<table border=\"1\" class=\"dataframe\">\n",
              "  <thead>\n",
              "    <tr style=\"text-align: right;\">\n",
              "      <th></th>\n",
              "      <th>School DBN</th>\n",
              "      <th>School Name</th>\n",
              "      <th>School Level</th>\n",
              "      <th>Regents Exam</th>\n",
              "      <th>Year</th>\n",
              "      <th>Total Tested</th>\n",
              "      <th>Mean Score</th>\n",
              "      <th>Number Scoring Below 65</th>\n",
              "      <th>Percent Scoring Below 65</th>\n",
              "      <th>Number Scoring 65 or Above</th>\n",
              "      <th>Percent Scoring 65 or Above</th>\n",
              "      <th>Number Scoring 80 or Above</th>\n",
              "      <th>Percent Scoring 80 or Above</th>\n",
              "      <th>Number Scoring CR</th>\n",
              "      <th>Percent Scoring CR</th>\n",
              "    </tr>\n",
              "  </thead>\n",
              "  <tbody>\n",
              "    <tr>\n",
              "      <th>13853</th>\n",
              "      <td>24Q600</td>\n",
              "      <td>Queens Vocational and Technical High School</td>\n",
              "      <td>High school</td>\n",
              "      <td>Algebra2/Trigonometry</td>\n",
              "      <td>2015</td>\n",
              "      <td>272</td>\n",
              "      <td>47.6</td>\n",
              "      <td>217</td>\n",
              "      <td>79.8</td>\n",
              "      <td>55</td>\n",
              "      <td>20.2</td>\n",
              "      <td>21</td>\n",
              "      <td>7.7</td>\n",
              "      <td>21</td>\n",
              "      <td>7.7</td>\n",
              "    </tr>\n",
              "    <tr>\n",
              "      <th>13854</th>\n",
              "      <td>24Q600</td>\n",
              "      <td>Queens Vocational and Technical High School</td>\n",
              "      <td>High school</td>\n",
              "      <td>Algebra2/Trigonometry</td>\n",
              "      <td>2016</td>\n",
              "      <td>238</td>\n",
              "      <td>48.2</td>\n",
              "      <td>186</td>\n",
              "      <td>78.2</td>\n",
              "      <td>52</td>\n",
              "      <td>21.8</td>\n",
              "      <td>12</td>\n",
              "      <td>5</td>\n",
              "      <td>12</td>\n",
              "      <td>5</td>\n",
              "    </tr>\n",
              "    <tr>\n",
              "      <th>13855</th>\n",
              "      <td>24Q600</td>\n",
              "      <td>Queens Vocational and Technical High School</td>\n",
              "      <td>High school</td>\n",
              "      <td>Algebra2/Trigonometry</td>\n",
              "      <td>2017</td>\n",
              "      <td>57</td>\n",
              "      <td>37.2</td>\n",
              "      <td>55</td>\n",
              "      <td>96.5</td>\n",
              "      <td>2</td>\n",
              "      <td>3.5</td>\n",
              "      <td>0</td>\n",
              "      <td>0</td>\n",
              "      <td>0</td>\n",
              "      <td>0</td>\n",
              "    </tr>\n",
              "    <tr>\n",
              "      <th>13856</th>\n",
              "      <td>24Q600</td>\n",
              "      <td>Queens Vocational and Technical High School</td>\n",
              "      <td>High school</td>\n",
              "      <td>Common Core Algebra</td>\n",
              "      <td>2015</td>\n",
              "      <td>492</td>\n",
              "      <td>63.2</td>\n",
              "      <td>229</td>\n",
              "      <td>46.5</td>\n",
              "      <td>263</td>\n",
              "      <td>53.5</td>\n",
              "      <td>8</td>\n",
              "      <td>1.6</td>\n",
              "      <td>121</td>\n",
              "      <td>24.6</td>\n",
              "    </tr>\n",
              "    <tr>\n",
              "      <th>13857</th>\n",
              "      <td>24Q600</td>\n",
              "      <td>Queens Vocational and Technical High School</td>\n",
              "      <td>High school</td>\n",
              "      <td>Common Core Algebra</td>\n",
              "      <td>2016</td>\n",
              "      <td>641</td>\n",
              "      <td>66.4</td>\n",
              "      <td>228</td>\n",
              "      <td>35.6</td>\n",
              "      <td>413</td>\n",
              "      <td>64.4</td>\n",
              "      <td>50</td>\n",
              "      <td>7.8</td>\n",
              "      <td>249</td>\n",
              "      <td>38.8</td>\n",
              "    </tr>\n",
              "    <tr>\n",
              "      <th>...</th>\n",
              "      <td>...</td>\n",
              "      <td>...</td>\n",
              "      <td>...</td>\n",
              "      <td>...</td>\n",
              "      <td>...</td>\n",
              "      <td>...</td>\n",
              "      <td>...</td>\n",
              "      <td>...</td>\n",
              "      <td>...</td>\n",
              "      <td>...</td>\n",
              "      <td>...</td>\n",
              "      <td>...</td>\n",
              "      <td>...</td>\n",
              "      <td>...</td>\n",
              "      <td>...</td>\n",
              "    </tr>\n",
              "    <tr>\n",
              "      <th>191203</th>\n",
              "      <td>24Q600</td>\n",
              "      <td>Queens Vocational and Technical High School</td>\n",
              "      <td>High school</td>\n",
              "      <td>U.S. History and Government</td>\n",
              "      <td>2016</td>\n",
              "      <td>35</td>\n",
              "      <td>70.1</td>\n",
              "      <td>13</td>\n",
              "      <td>37.1</td>\n",
              "      <td>22</td>\n",
              "      <td>62.9</td>\n",
              "      <td>14</td>\n",
              "      <td>40</td>\n",
              "      <td>na</td>\n",
              "      <td>na</td>\n",
              "    </tr>\n",
              "    <tr>\n",
              "      <th>191204</th>\n",
              "      <td>24Q600</td>\n",
              "      <td>Queens Vocational and Technical High School</td>\n",
              "      <td>High school</td>\n",
              "      <td>U.S. History and Government</td>\n",
              "      <td>2017</td>\n",
              "      <td>20</td>\n",
              "      <td>67.4</td>\n",
              "      <td>7</td>\n",
              "      <td>35</td>\n",
              "      <td>13</td>\n",
              "      <td>65</td>\n",
              "      <td>3</td>\n",
              "      <td>15</td>\n",
              "      <td>na</td>\n",
              "      <td>na</td>\n",
              "    </tr>\n",
              "    <tr>\n",
              "      <th>191205</th>\n",
              "      <td>24Q600</td>\n",
              "      <td>Queens Vocational and Technical High School</td>\n",
              "      <td>High school</td>\n",
              "      <td>U.S. History and Government</td>\n",
              "      <td>2017</td>\n",
              "      <td>7</td>\n",
              "      <td>s</td>\n",
              "      <td>s</td>\n",
              "      <td>s</td>\n",
              "      <td>s</td>\n",
              "      <td>s</td>\n",
              "      <td>s</td>\n",
              "      <td>s</td>\n",
              "      <td>na</td>\n",
              "      <td>na</td>\n",
              "    </tr>\n",
              "    <tr>\n",
              "      <th>191206</th>\n",
              "      <td>24Q600</td>\n",
              "      <td>Queens Vocational and Technical High School</td>\n",
              "      <td>High school</td>\n",
              "      <td>U.S. History and Government</td>\n",
              "      <td>2017</td>\n",
              "      <td>163</td>\n",
              "      <td>61.3</td>\n",
              "      <td>99</td>\n",
              "      <td>60.7</td>\n",
              "      <td>64</td>\n",
              "      <td>39.3</td>\n",
              "      <td>13</td>\n",
              "      <td>8</td>\n",
              "      <td>na</td>\n",
              "      <td>na</td>\n",
              "    </tr>\n",
              "    <tr>\n",
              "      <th>191207</th>\n",
              "      <td>24Q600</td>\n",
              "      <td>Queens Vocational and Technical High School</td>\n",
              "      <td>High school</td>\n",
              "      <td>U.S. History and Government</td>\n",
              "      <td>2017</td>\n",
              "      <td>2</td>\n",
              "      <td>s</td>\n",
              "      <td>s</td>\n",
              "      <td>s</td>\n",
              "      <td>s</td>\n",
              "      <td>s</td>\n",
              "      <td>s</td>\n",
              "      <td>s</td>\n",
              "      <td>na</td>\n",
              "      <td>na</td>\n",
              "    </tr>\n",
              "  </tbody>\n",
              "</table>\n",
              "<p>177355 rows × 15 columns</p>\n",
              "</div>"
            ],
            "text/plain": [
              "       School DBN  ... Percent Scoring CR\n",
              "13853      24Q600  ...                7.7\n",
              "13854      24Q600  ...                  5\n",
              "13855      24Q600  ...                  0\n",
              "13856      24Q600  ...               24.6\n",
              "13857      24Q600  ...               38.8\n",
              "...           ...  ...                ...\n",
              "191203     24Q600  ...                 na\n",
              "191204     24Q600  ...                 na\n",
              "191205     24Q600  ...                 na\n",
              "191206     24Q600  ...                 na\n",
              "191207     24Q600  ...                 na\n",
              "\n",
              "[177355 rows x 15 columns]"
            ]
          },
          "metadata": {
            "tags": []
          },
          "execution_count": 10
        }
      ]
    },
    {
      "cell_type": "markdown",
      "metadata": {
        "id": "AFZnAyPu8hJn"
      },
      "source": [
        "**^ This iloc function basically helps pick particular columns, in this case I picked columns/rows of stats for Queens Vocational and Techinical High School, (which is the HS I went to.) **"
      ]
    },
    {
      "cell_type": "code",
      "metadata": {
        "colab": {
          "base_uri": "https://localhost:8080/",
          "height": 615
        },
        "id": "Dm4GcnjhK2YQ",
        "outputId": "b203dfb9-8866-4d9c-8c36-9b7ddd10157b"
      },
      "source": [
        "import matplotlib.pyplot as plot\n",
        "%matplotlib inline\n",
        "import seaborn as sns\n",
        "df[df['School Name'] == 'Queens Vocational and Technical High School']"
      ],
      "execution_count": 11,
      "outputs": [
        {
          "output_type": "execute_result",
          "data": {
            "text/html": [
              "<div>\n",
              "<style scoped>\n",
              "    .dataframe tbody tr th:only-of-type {\n",
              "        vertical-align: middle;\n",
              "    }\n",
              "\n",
              "    .dataframe tbody tr th {\n",
              "        vertical-align: top;\n",
              "    }\n",
              "\n",
              "    .dataframe thead th {\n",
              "        text-align: right;\n",
              "    }\n",
              "</style>\n",
              "<table border=\"1\" class=\"dataframe\">\n",
              "  <thead>\n",
              "    <tr style=\"text-align: right;\">\n",
              "      <th></th>\n",
              "      <th>School DBN</th>\n",
              "      <th>School Name</th>\n",
              "      <th>School Level</th>\n",
              "      <th>Regents Exam</th>\n",
              "      <th>Year</th>\n",
              "      <th>Total Tested</th>\n",
              "      <th>Mean Score</th>\n",
              "      <th>Number Scoring Below 65</th>\n",
              "      <th>Percent Scoring Below 65</th>\n",
              "      <th>Number Scoring 65 or Above</th>\n",
              "      <th>Percent Scoring 65 or Above</th>\n",
              "      <th>Number Scoring 80 or Above</th>\n",
              "      <th>Percent Scoring 80 or Above</th>\n",
              "      <th>Number Scoring CR</th>\n",
              "      <th>Percent Scoring CR</th>\n",
              "    </tr>\n",
              "  </thead>\n",
              "  <tbody>\n",
              "    <tr>\n",
              "      <th>13853</th>\n",
              "      <td>24Q600</td>\n",
              "      <td>Queens Vocational and Technical High School</td>\n",
              "      <td>High school</td>\n",
              "      <td>Algebra2/Trigonometry</td>\n",
              "      <td>2015</td>\n",
              "      <td>272</td>\n",
              "      <td>47.6</td>\n",
              "      <td>217</td>\n",
              "      <td>79.8</td>\n",
              "      <td>55</td>\n",
              "      <td>20.2</td>\n",
              "      <td>21</td>\n",
              "      <td>7.7</td>\n",
              "      <td>21</td>\n",
              "      <td>7.7</td>\n",
              "    </tr>\n",
              "    <tr>\n",
              "      <th>13854</th>\n",
              "      <td>24Q600</td>\n",
              "      <td>Queens Vocational and Technical High School</td>\n",
              "      <td>High school</td>\n",
              "      <td>Algebra2/Trigonometry</td>\n",
              "      <td>2016</td>\n",
              "      <td>238</td>\n",
              "      <td>48.2</td>\n",
              "      <td>186</td>\n",
              "      <td>78.2</td>\n",
              "      <td>52</td>\n",
              "      <td>21.8</td>\n",
              "      <td>12</td>\n",
              "      <td>5</td>\n",
              "      <td>12</td>\n",
              "      <td>5</td>\n",
              "    </tr>\n",
              "    <tr>\n",
              "      <th>13855</th>\n",
              "      <td>24Q600</td>\n",
              "      <td>Queens Vocational and Technical High School</td>\n",
              "      <td>High school</td>\n",
              "      <td>Algebra2/Trigonometry</td>\n",
              "      <td>2017</td>\n",
              "      <td>57</td>\n",
              "      <td>37.2</td>\n",
              "      <td>55</td>\n",
              "      <td>96.5</td>\n",
              "      <td>2</td>\n",
              "      <td>3.5</td>\n",
              "      <td>0</td>\n",
              "      <td>0</td>\n",
              "      <td>0</td>\n",
              "      <td>0</td>\n",
              "    </tr>\n",
              "    <tr>\n",
              "      <th>13856</th>\n",
              "      <td>24Q600</td>\n",
              "      <td>Queens Vocational and Technical High School</td>\n",
              "      <td>High school</td>\n",
              "      <td>Common Core Algebra</td>\n",
              "      <td>2015</td>\n",
              "      <td>492</td>\n",
              "      <td>63.2</td>\n",
              "      <td>229</td>\n",
              "      <td>46.5</td>\n",
              "      <td>263</td>\n",
              "      <td>53.5</td>\n",
              "      <td>8</td>\n",
              "      <td>1.6</td>\n",
              "      <td>121</td>\n",
              "      <td>24.6</td>\n",
              "    </tr>\n",
              "    <tr>\n",
              "      <th>13857</th>\n",
              "      <td>24Q600</td>\n",
              "      <td>Queens Vocational and Technical High School</td>\n",
              "      <td>High school</td>\n",
              "      <td>Common Core Algebra</td>\n",
              "      <td>2016</td>\n",
              "      <td>641</td>\n",
              "      <td>66.4</td>\n",
              "      <td>228</td>\n",
              "      <td>35.6</td>\n",
              "      <td>413</td>\n",
              "      <td>64.4</td>\n",
              "      <td>50</td>\n",
              "      <td>7.8</td>\n",
              "      <td>249</td>\n",
              "      <td>38.8</td>\n",
              "    </tr>\n",
              "    <tr>\n",
              "      <th>...</th>\n",
              "      <td>...</td>\n",
              "      <td>...</td>\n",
              "      <td>...</td>\n",
              "      <td>...</td>\n",
              "      <td>...</td>\n",
              "      <td>...</td>\n",
              "      <td>...</td>\n",
              "      <td>...</td>\n",
              "      <td>...</td>\n",
              "      <td>...</td>\n",
              "      <td>...</td>\n",
              "      <td>...</td>\n",
              "      <td>...</td>\n",
              "      <td>...</td>\n",
              "      <td>...</td>\n",
              "    </tr>\n",
              "    <tr>\n",
              "      <th>191204</th>\n",
              "      <td>24Q600</td>\n",
              "      <td>Queens Vocational and Technical High School</td>\n",
              "      <td>High school</td>\n",
              "      <td>U.S. History and Government</td>\n",
              "      <td>2017</td>\n",
              "      <td>20</td>\n",
              "      <td>67.4</td>\n",
              "      <td>7</td>\n",
              "      <td>35</td>\n",
              "      <td>13</td>\n",
              "      <td>65</td>\n",
              "      <td>3</td>\n",
              "      <td>15</td>\n",
              "      <td>na</td>\n",
              "      <td>na</td>\n",
              "    </tr>\n",
              "    <tr>\n",
              "      <th>191205</th>\n",
              "      <td>24Q600</td>\n",
              "      <td>Queens Vocational and Technical High School</td>\n",
              "      <td>High school</td>\n",
              "      <td>U.S. History and Government</td>\n",
              "      <td>2017</td>\n",
              "      <td>7</td>\n",
              "      <td>s</td>\n",
              "      <td>s</td>\n",
              "      <td>s</td>\n",
              "      <td>s</td>\n",
              "      <td>s</td>\n",
              "      <td>s</td>\n",
              "      <td>s</td>\n",
              "      <td>na</td>\n",
              "      <td>na</td>\n",
              "    </tr>\n",
              "    <tr>\n",
              "      <th>191206</th>\n",
              "      <td>24Q600</td>\n",
              "      <td>Queens Vocational and Technical High School</td>\n",
              "      <td>High school</td>\n",
              "      <td>U.S. History and Government</td>\n",
              "      <td>2017</td>\n",
              "      <td>163</td>\n",
              "      <td>61.3</td>\n",
              "      <td>99</td>\n",
              "      <td>60.7</td>\n",
              "      <td>64</td>\n",
              "      <td>39.3</td>\n",
              "      <td>13</td>\n",
              "      <td>8</td>\n",
              "      <td>na</td>\n",
              "      <td>na</td>\n",
              "    </tr>\n",
              "    <tr>\n",
              "      <th>191207</th>\n",
              "      <td>24Q600</td>\n",
              "      <td>Queens Vocational and Technical High School</td>\n",
              "      <td>High school</td>\n",
              "      <td>U.S. History and Government</td>\n",
              "      <td>2017</td>\n",
              "      <td>2</td>\n",
              "      <td>s</td>\n",
              "      <td>s</td>\n",
              "      <td>s</td>\n",
              "      <td>s</td>\n",
              "      <td>s</td>\n",
              "      <td>s</td>\n",
              "      <td>s</td>\n",
              "      <td>na</td>\n",
              "      <td>na</td>\n",
              "    </tr>\n",
              "    <tr>\n",
              "      <th>191208</th>\n",
              "      <td>24Q600</td>\n",
              "      <td>Queens Vocational and Technical High School</td>\n",
              "      <td>High school</td>\n",
              "      <td>U.S. History and Government</td>\n",
              "      <td>2017</td>\n",
              "      <td>13</td>\n",
              "      <td>57.9</td>\n",
              "      <td>7</td>\n",
              "      <td>53.8</td>\n",
              "      <td>6</td>\n",
              "      <td>46.2</td>\n",
              "      <td>1</td>\n",
              "      <td>7.7</td>\n",
              "      <td>na</td>\n",
              "      <td>na</td>\n",
              "    </tr>\n",
              "  </tbody>\n",
              "</table>\n",
              "<p>466 rows × 15 columns</p>\n",
              "</div>"
            ],
            "text/plain": [
              "       School DBN  ... Percent Scoring CR\n",
              "13853      24Q600  ...                7.7\n",
              "13854      24Q600  ...                  5\n",
              "13855      24Q600  ...                  0\n",
              "13856      24Q600  ...               24.6\n",
              "13857      24Q600  ...               38.8\n",
              "...           ...  ...                ...\n",
              "191204     24Q600  ...                 na\n",
              "191205     24Q600  ...                 na\n",
              "191206     24Q600  ...                 na\n",
              "191207     24Q600  ...                 na\n",
              "191208     24Q600  ...                 na\n",
              "\n",
              "[466 rows x 15 columns]"
            ]
          },
          "metadata": {
            "tags": []
          },
          "execution_count": 11
        }
      ]
    },
    {
      "cell_type": "code",
      "metadata": {
        "colab": {
          "base_uri": "https://localhost:8080/",
          "height": 337
        },
        "id": "Uq-MJTNS7vuQ",
        "outputId": "ca3f662c-3a1b-461c-d5c0-7ff98c2934a6"
      },
      "source": [
        "df.hist()"
      ],
      "execution_count": 12,
      "outputs": [
        {
          "output_type": "execute_result",
          "data": {
            "text/plain": [
              "array([[<matplotlib.axes._subplots.AxesSubplot object at 0x7f16517188d0>,\n",
              "        <matplotlib.axes._subplots.AxesSubplot object at 0x7f16516eefd0>]],\n",
              "      dtype=object)"
            ]
          },
          "metadata": {
            "tags": []
          },
          "execution_count": 12
        },
        {
          "output_type": "display_data",
          "data": {
            "image/png": "[encoded data removed]",
            "text/plain": [
              "<Figure size 432x288 with 2 Axes>"
            ]
          },
          "metadata": {
            "tags": [],
            "needs_background": "light"
          }
        }
      ]
    },
    {
      "cell_type": "markdown",
      "metadata": {
        "id": "c3LAbmle9cmo"
      },
      "source": [
        "**^This histogram shows us the Data frame columns. We can see here years 2015-2017 and how many students were tested per year. 2016 had the most tested students. **"
      ]
    },
    {
      "cell_type": "code",
      "metadata": {
        "colab": {
          "base_uri": "https://localhost:8080/",
          "height": 284
        },
        "id": "178tz1AEBEdf",
        "outputId": "52ea0e65-9141-4d4e-f53e-7287de42b5d1"
      },
      "source": [
        "df.plot()"
      ],
      "execution_count": 13,
      "outputs": [
        {
          "output_type": "execute_result",
          "data": {
            "text/plain": [
              "<matplotlib.axes._subplots.AxesSubplot at 0x7f16515ead10>"
            ]
          },
          "metadata": {
            "tags": []
          },
          "execution_count": 13
        },
        {
          "output_type": "display_data",
          "data": {
            "image/png": "[encoded data removed]",
            "text/plain": [
              "<Figure size 432x288 with 1 Axes>"
            ]
          },
          "metadata": {
            "tags": [],
            "needs_background": "light"
          }
        }
      ]
    },
    {
      "cell_type": "markdown",
      "metadata": {
        "id": "0Hpe-bXAAJ_F"
      },
      "source": [
        " **^ This plot shows all of the columns with labels**\n",
        "\n"
      ]
    },
    {
      "cell_type": "code",
      "metadata": {
        "colab": {
          "base_uri": "https://localhost:8080/",
          "height": 298
        },
        "id": "eVg_eAKGpCSn",
        "outputId": "73b6fd5b-fd89-40ae-8516-7a9ce28ea1c7"
      },
      "source": [
        "df.plot.scatter(x='Total Tested' , y='School Level', c='r')"
      ],
      "execution_count": 14,
      "outputs": [
        {
          "output_type": "execute_result",
          "data": {
            "text/plain": [
              "<matplotlib.axes._subplots.AxesSubplot at 0x7f1651082c90>"
            ]
          },
          "metadata": {
            "tags": []
          },
          "execution_count": 14
        },
        {
          "output_type": "display_data",
          "data": {
            "image/png": "[encoded data removed]",
            "text/plain": [
              "<Figure size 432x288 with 1 Axes>"
            ]
          },
          "metadata": {
            "tags": [],
            "needs_background": "light"
          }
        }
      ]
    },
    {
      "cell_type": "markdown",
      "metadata": {
        "id": "ePwqaxEUA0PR"
      },
      "source": [
        "**^ This scatter plot shows the different school levels and the total tested in red. We can see that High Schools get tested the most. **"
      ]
    },
    {
      "cell_type": "code",
      "metadata": {
        "colab": {
          "base_uri": "https://localhost:8080/",
          "height": 284
        },
        "id": "sM1p75wOJ9_v",
        "outputId": "c2355cd1-5bbf-489c-d1e2-adc4adb627b5"
      },
      "source": [
        "df[df['School Name'] == 'Queens Vocational and Technical High School'].describe().plot(kind='area')"
      ],
      "execution_count": 33,
      "outputs": [
        {
          "output_type": "execute_result",
          "data": {
            "text/plain": [
              "<matplotlib.axes._subplots.AxesSubplot at 0x7f161f261410>"
            ]
          },
          "metadata": {
            "tags": []
          },
          "execution_count": 33
        },
        {
          "output_type": "display_data",
          "data": {
            "image/png": "[encoded data removed]",
            "text/plain": [
              "<Figure size 432x288 with 1 Axes>"
            ]
          },
          "metadata": {
            "tags": [],
            "needs_background": "light"
          }
        }
      ]
    },
    {
      "cell_type": "markdown",
      "metadata": {
        "id": "2B8q4IdFCg94"
      },
      "source": [
        "**^This area plot , describe function calculated descriptive stats data like count, percentile, mean and std of the numerical values of the dataset for just Queens Vocational and Technical High School. **"
      ]
    },
    {
      "cell_type": "code",
      "metadata": {
        "colab": {
          "base_uri": "https://localhost:8080/",
          "height": 445
        },
        "id": "m1RtiRdQK99A",
        "outputId": "6b0a4098-f080-4682-b611-febdf050e20a"
      },
      "source": [
        "df.groupby(['Regents Exam'])['School Level'].count().plot.bar()"
      ],
      "execution_count": 19,
      "outputs": [
        {
          "output_type": "execute_result",
          "data": {
            "text/plain": [
              "<matplotlib.axes._subplots.AxesSubplot at 0x7f16510dad50>"
            ]
          },
          "metadata": {
            "tags": []
          },
          "execution_count": 19
        },
        {
          "output_type": "display_data",
          "data": {
            "image/png": "[encoded data removed]",
            "text/plain": [
              "<Figure size 432x288 with 1 Axes>"
            ]
          },
          "metadata": {
            "tags": [],
            "needs_background": "light"
          }
        }
      ]
    },
    {
      "cell_type": "markdown",
      "metadata": {
        "id": "2NAq6FjGDNAr"
      },
      "source": [
        "### **^ This groupby plot bar visual funtion splits up data into groups, for this case I tried to show regents exam and school levels. This shows us that Common Core Algebra had the most exams.**"
      ]
    },
    {
      "cell_type": "code",
      "metadata": {
        "colab": {
          "base_uri": "https://localhost:8080/"
        },
        "id": "1-8_5p-q645Q",
        "outputId": "1ffc361c-214c-42b8-e53d-54da16200e70"
      },
      "source": [
        "df.groupby(['Regents Exam'])['School Name'].max()"
      ],
      "execution_count": 17,
      "outputs": [
        {
          "output_type": "execute_result",
          "data": {
            "text/plain": [
              "Regents Exam\n",
              "Algebra2/Trigonometry               Young Women's Leadership School, Queens\n",
              "Common Core Algebra                 Young Women's Leadership School, Queens\n",
              "Common Core Algebra2                Young Women's Leadership School, Queens\n",
              "Common Core English                 Young Women's Leadership School, Queens\n",
              "Common Core Geometry                Young Women's Leadership School, Queens\n",
              "English                             Young Women's Leadership School, Queens\n",
              "Geometry                            Young Women's Leadership School, Queens\n",
              "Global History and Geography        Young Women's Leadership School, Queens\n",
              "Integrated Algebra                  Young Women's Leadership School, Queens\n",
              "Living Environment                  Young Women's Leadership School, Queens\n",
              "Physical Settings/Chemistry         Young Women's Leadership School, Queens\n",
              "Physical Settings/Earth Science     Young Women's Leadership School, Queens\n",
              "Physical Settings/Physics          Young Women's Leadership School, Astoria\n",
              "U.S. History and Government         Young Women's Leadership School, Queens\n",
              "Name: School Name, dtype: object"
            ]
          },
          "metadata": {
            "tags": []
          },
          "execution_count": 17
        }
      ]
    },
    {
      "cell_type": "markdown",
      "metadata": {
        "id": "_Vtri5iRD8Lo"
      },
      "source": [
        "### **^Another groupby  which shows us details on regents exam and school names, with the function of max. We can see The Young Women's Leadership School had alot of the most exams.**"
      ]
    },
    {
      "cell_type": "code",
      "metadata": {
        "colab": {
          "base_uri": "https://localhost:8080/",
          "height": 284
        },
        "id": "HYhXI1pNKu7A",
        "outputId": "8fbde176-29cf-4a47-cdf2-282cd6469cb2"
      },
      "source": [
        "df[df['Regents Exam'] == 'Living Environment'].plot(kind='area')"
      ],
      "execution_count": 34,
      "outputs": [
        {
          "output_type": "execute_result",
          "data": {
            "text/plain": [
              "<matplotlib.axes._subplots.AxesSubplot at 0x7f1618185e10>"
            ]
          },
          "metadata": {
            "tags": []
          },
          "execution_count": 34
        },
        {
          "output_type": "display_data",
          "data": {
            "image/png": "[encoded data removed]",
            "text/plain": [
              "<Figure size 432x288 with 1 Axes>"
            ]
          },
          "metadata": {
            "tags": [],
            "needs_background": "light"
          }
        }
      ]
    },
    {
      "cell_type": "markdown",
      "metadata": {
        "id": "3q5ch7I127E5"
      },
      "source": [
        "^This Area plot demonstates total tested for living environment regents exam. It is showing passed in the 200,000s were tested for this specific exam. "
      ]
    }
  ]
}